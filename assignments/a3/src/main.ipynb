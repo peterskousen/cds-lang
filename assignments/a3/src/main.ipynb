{
 "cells": [
  {
   "cell_type": "code",
   "execution_count": 101,
   "metadata": {},
   "outputs": [],
   "source": [
    "import os\n",
    "import re\n",
    "import spacy\n",
    "import pandas as pd\n",
    "import gensim\n",
    "import gensim.downloader as api"
   ]
  },
  {
   "cell_type": "code",
   "execution_count": 102,
   "metadata": {},
   "outputs": [],
   "source": [
    "model = api.load(\"glove-wiki-gigaword-50\")"
   ]
  },
  {
   "cell_type": "code",
   "execution_count": null,
   "metadata": {},
   "outputs": [],
   "source": [
    "xnlp = spacy.load('en_core_web_sm')"
   ]
  },
  {
   "cell_type": "code",
   "execution_count": 103,
   "metadata": {},
   "outputs": [],
   "source": [
    "filepath = os.path.join(\n",
    "    \"..\",\n",
    "    \"in\",\n",
    "    \"Spotify Million Song Dataset_exported.csv\"\n",
    ")"
   ]
  },
  {
   "cell_type": "code",
   "execution_count": 184,
   "metadata": {},
   "outputs": [],
   "source": [
    "data = pd.read_csv(filepath)"
   ]
  },
  {
   "cell_type": "code",
   "execution_count": 185,
   "metadata": {},
   "outputs": [],
   "source": [
    "# Clean lyrics\n",
    "data[\"text\"] = data[\"text\"].apply(lambda x: re.sub(r'[^\\w\\s]', '', x))  # remove punctuation\n",
    "data[\"text\"] = data[\"text\"].apply(lambda x: re.sub(r'\\d+', '', x))  # remove numbers\n",
    "data[\"text\"] = data[\"text\"].apply(lambda x: re.sub(r'\\s+',' ', x))  # remove extra whitespace\n",
    "data[\"text\"] = data[\"text\"].apply(lambda x: x.lower())  # convert to lowercase"
   ]
  },
  {
   "cell_type": "code",
   "execution_count": 215,
   "metadata": {},
   "outputs": [],
   "source": [
    "word = \"her\"\n",
    "artist = \"Abba\""
   ]
  },
  {
   "cell_type": "code",
   "execution_count": 216,
   "metadata": {},
   "outputs": [],
   "source": [
    "#Expand query with similar words, exlude similarity score\n",
    "similar_words = [w for w, _ in model.most_similar(word, topn=10)]\n",
    "similar_words.extend([word])"
   ]
  },
  {
   "cell_type": "code",
   "execution_count": 217,
   "metadata": {},
   "outputs": [],
   "source": [
    "artist_lower = artist.lower()\n",
    "data['artist'] = data['artist'].str.lower()\n",
    "artist_songs = data[data[\"artist\"] == artist_lower]"
   ]
  },
  {
   "cell_type": "code",
   "execution_count": 218,
   "metadata": {},
   "outputs": [
    {
     "name": "stdout",
     "output_type": "stream",
     "text": [
      "82.30088495575221% of Abba's songs contain the word \"her\" or similar\n"
     ]
    }
   ],
   "source": [
    "matching_songs = artist_songs\n",
    "for w in similar_words:\n",
    "    matching_songs = matching_songs[matching_songs['text'].str.contains(word, case=False)]\n",
    "percentage = (len(matching_songs) / len(artist_songs)) * 100\n",
    "print(f'{percentage}% of {artist}\\'s songs contain the word \"{word}\" or similar')"
   ]
  },
  {
   "cell_type": "code",
   "execution_count": null,
   "metadata": {},
   "outputs": [],
   "source": []
  }
 ],
 "metadata": {
  "kernelspec": {
   "display_name": "Python 3",
   "language": "python",
   "name": "python3"
  },
  "language_info": {
   "codemirror_mode": {
    "name": "ipython",
    "version": 3
   },
   "file_extension": ".py",
   "mimetype": "text/x-python",
   "name": "python",
   "nbconvert_exporter": "python",
   "pygments_lexer": "ipython3",
   "version": "3.10.12"
  }
 },
 "nbformat": 4,
 "nbformat_minor": 2
}
