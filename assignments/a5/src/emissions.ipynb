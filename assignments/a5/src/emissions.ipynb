{
 "cells": [
  {
   "cell_type": "code",
   "execution_count": 19,
   "metadata": {},
   "outputs": [],
   "source": [
    "import os\n",
    "import matplotlib.pyplot as plt\n",
    "import pandas as pd\n",
    "\n",
    "input_path = \"in\"\n",
    "output_path = \"out\"\n",
    "\n",
    "def calculate_subtask_emissions(data, csv, output_dir):\n",
    "    plt.figure()\n",
    "    plt.bar(data['task_name'], data['emissions'])\n",
    "    plt.xlabel('Task Name')\n",
    "    plt.ylabel('Emissions (CO₂eq)')\n",
    "    plt.title(f'Approx. emissions per task for {csv}')\n",
    "    plt.xticks(rotation=45)\n",
    "    plt.tight_layout()\n",
    "    plt.savefig(os.path.join(output_dir, 'subtask_emissions.png'))\n",
    "    plt.close()\n",
    "\n",
    "def calculate_subtask_durations(data, csv, output_dir):\n",
    "    plt.figure()\n",
    "    plt.bar(data['task_name'], data['duration'])\n",
    "    plt.xlabel('Task Name')\n",
    "    plt.ylabel('Duration (s)')\n",
    "    plt.title(f'Duration of tasks for {csv}')\n",
    "    plt.xticks(rotation=45)\n",
    "    plt.tight_layout()\n",
    "    plt.savefig(os.path.join(output_dir, 'subtask_durations.png'))\n",
    "    plt.close()\n",
    "\n",
    "def calculate_total_emissions(data, csv, total_emissions, output_dir):\n",
    "    plt.figure()\n",
    "    plt.bar(['Total Emissions'], [total_emissions], width=0.3)\n",
    "    plt.ylabel('Emissions (CO₂eq)')\n",
    "    plt.title(f'Total Emissions for {csv}: {total_emissions:.6f} kg CO₂eq')\n",
    "    plt.xticks()\n",
    "    plt.tight_layout()\n",
    "    plt.savefig(os.path.join(output_dir, 'total_emissions.png'))\n",
    "    plt.close()\n",
    "\n",
    "for csv in sorted(os.listdir(input_path)):\n",
    "    data = pd.read_csv(os.path.join(input_path, csv))\n",
    "    total_emissions = data['emissions'].sum()\n",
    "    data[\"total_emissions\"] = total_emissions\n",
    "\n",
    "    output_dir = os.path.join(output_base_path, os.path.splitext(csv)[0])\n",
    "    os.makedirs(output_dir, exist_ok=True)\n",
    "\n",
    "    calculate_subtask_emissions(data, csv, output_dir)\n",
    "    calculate_subtask_durations(data, csv, output_dir)\n",
    "    calculate_total_emissions(data, csv, total_emissions, output_dir)\n",
    "\n"
   ]
  },
  {
   "cell_type": "code",
   "execution_count": null,
   "metadata": {},
   "outputs": [],
   "source": []
  }
 ],
 "metadata": {
  "kernelspec": {
   "display_name": "Python 3",
   "language": "python",
   "name": "python3"
  },
  "language_info": {
   "codemirror_mode": {
    "name": "ipython",
    "version": 3
   },
   "file_extension": ".py",
   "mimetype": "text/x-python",
   "name": "python",
   "nbconvert_exporter": "python",
   "pygments_lexer": "ipython3",
   "version": "3.10.12"
  }
 },
 "nbformat": 4,
 "nbformat_minor": 2
}
